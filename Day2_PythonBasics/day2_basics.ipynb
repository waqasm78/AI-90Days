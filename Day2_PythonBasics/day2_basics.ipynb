{
 "cells": [
  {
   "cell_type": "code",
   "execution_count": 13,
   "id": "8310dacd-d861-4205-ae42-2d1212d914d6",
   "metadata": {},
   "outputs": [
    {
     "name": "stdout",
     "output_type": "stream",
     "text": [
      "5\n"
     ]
    }
   ],
   "source": [
    "#Variables\n",
    "\n",
    "x = 5\n",
    "print(x)"
   ]
  },
  {
   "cell_type": "code",
   "execution_count": 14,
   "id": "22d9c8ba-367b-4147-9465-ba00aad683f1",
   "metadata": {},
   "outputs": [
    {
     "name": "stdout",
     "output_type": "stream",
     "text": [
      "30\n",
      "5.9\n"
     ]
    }
   ],
   "source": [
    "#Integers and Floats\n",
    "\n",
    "age = 30       # integer (int)\n",
    "height = 5.9   # float (decimal number)\n",
    "print(age)\n",
    "print(height)"
   ]
  },
  {
   "cell_type": "code",
   "execution_count": 15,
   "id": "e5da2b6e-3736-47b9-8b15-581332b0eaa1",
   "metadata": {},
   "outputs": [
    {
     "name": "stdout",
     "output_type": "stream",
     "text": [
      "Alice\n"
     ]
    }
   ],
   "source": [
    "#Strings\n",
    "\n",
    "name = \"Alice\"\n",
    "print(name)"
   ]
  },
  {
   "cell_type": "code",
   "execution_count": 17,
   "id": "1d4a087f-8b64-42ad-a49c-82c1995719fb",
   "metadata": {
    "scrolled": true
   },
   "outputs": [
    {
     "name": "stdout",
     "output_type": "stream",
     "text": [
      "True\n",
      "False\n"
     ]
    }
   ],
   "source": [
    "#Boolens\n",
    "\n",
    "is_student = True\n",
    "is_graduated = False\n",
    "print(is_student)\n",
    "print(is_graduated)"
   ]
  },
  {
   "cell_type": "code",
   "execution_count": 18,
   "id": "a8fe6276-7150-495b-930a-8347e0f30100",
   "metadata": {},
   "outputs": [
    {
     "name": "stdout",
     "output_type": "stream",
     "text": [
      "<class 'str'>\n",
      "<class 'float'>\n"
     ]
    }
   ],
   "source": [
    "#Type Checking\n",
    "\n",
    "print(type(name))    # Output: <class 'str'>\n",
    "print(type(height))  # Output: <class 'float'>"
   ]
  },
  {
   "cell_type": "code",
   "execution_count": 20,
   "id": "a8c1373b-fcc5-4b63-a42c-8dfde7ada55a",
   "metadata": {},
   "outputs": [
    {
     "name": "stdout",
     "output_type": "stream",
     "text": [
      "<class 'int'>\n",
      "<class 'str'>\n"
     ]
    }
   ],
   "source": [
    "#Type Conversion\n",
    "\n",
    "#Example 1: String to Integer\n",
    "\n",
    "x = \"100\"          # x is a string\n",
    "y = int(x)          # y becomes an integer 100\n",
    "print(type(y))      # <class 'int'>\n",
    "\n",
    "#Example 2: Integer to String\n",
    "\n",
    "num = 25            # num is an integer\n",
    "text = str(num)     # text becomes \"25\"\n",
    "print(type(text))   # <class 'str'>"
   ]
  },
  {
   "cell_type": "code",
   "execution_count": 23,
   "id": "4a2e1b5d-ffec-40a6-afbd-6294a1372c62",
   "metadata": {},
   "outputs": [
    {
     "name": "stdout",
     "output_type": "stream",
     "text": [
      "13\n",
      "7\n",
      "30\n",
      "3.3333333333333335\n",
      "3\n",
      "1\n",
      "1000\n"
     ]
    }
   ],
   "source": [
    "#Arithmetic Operations\n",
    "\n",
    "x = 10\n",
    "y = 3\n",
    "print(x + y)    # 13 (Addition)\n",
    "print(x - y)    # 7  (Subtraction)\n",
    "print(x * y)    # 30 (Multiplication)\n",
    "print(x / y)    # 3.333... (Division - always returns float)\n",
    "print(x // y)   # 3 (Floor Division - rounds down)\n",
    "print(x % y)    # 1 (Modulus - remainder of division)\n",
    "print(x ** y)   # 1000 (Exponentiation - 10 to the power 3)"
   ]
  },
  {
   "cell_type": "code",
   "execution_count": 25,
   "id": "6e744ffc-c43d-4cf6-8c6b-54cdde067991",
   "metadata": {},
   "outputs": [
    {
     "name": "stdout",
     "output_type": "stream",
     "text": [
      "Name: Waqas\n",
      "Age: 38\n",
      "Learning AI: True\n",
      "<class 'str'>\n",
      "<class 'int'>\n",
      "<class 'bool'>\n"
     ]
    }
   ],
   "source": [
    "#Practice Exercise 1: Declare and Inspect\n",
    "\n",
    "my_name = \"Waqas\"\n",
    "my_age = 38\n",
    "is_learning_ai = True\n",
    "\n",
    "print(\"Name:\", my_name)\n",
    "print(\"Age:\", my_age)\n",
    "print(\"Learning AI:\", is_learning_ai)\n",
    "\n",
    "print(type(my_name))\n",
    "print(type(my_age))\n",
    "print(type(is_learning_ai))"
   ]
  },
  {
   "cell_type": "code",
   "execution_count": 26,
   "id": "966699ec-a741-46fb-9cbb-4b3547765e27",
   "metadata": {},
   "outputs": [
    {
     "name": "stdout",
     "output_type": "stream",
     "text": [
      "Sum: 12\n",
      "Difference: 4\n",
      "Product: 32\n",
      "Quotient: 2.0\n",
      "Floor Division: 2\n",
      "Remainder: 0\n",
      "Power: 4096\n"
     ]
    }
   ],
   "source": [
    "#Practice Exercise 2: Simple Calculator\n",
    "\n",
    "a = 8\n",
    "b = 4\n",
    "\n",
    "print(\"Sum:\", a + b)\n",
    "print(\"Difference:\", a - b)\n",
    "print(\"Product:\", a * b)\n",
    "print(\"Quotient:\", a / b)\n",
    "print(\"Floor Division:\", a // b)\n",
    "print(\"Remainder:\", a % b)\n",
    "print(\"Power:\", a ** b)\n"
   ]
  }
 ],
 "metadata": {
  "kernelspec": {
   "display_name": "Python 3 (ipykernel)",
   "language": "python",
   "name": "python3"
  },
  "language_info": {
   "codemirror_mode": {
    "name": "ipython",
    "version": 3
   },
   "file_extension": ".py",
   "mimetype": "text/x-python",
   "name": "python",
   "nbconvert_exporter": "python",
   "pygments_lexer": "ipython3",
   "version": "3.13.5"
  }
 },
 "nbformat": 4,
 "nbformat_minor": 5
}
