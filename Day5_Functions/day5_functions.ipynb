{
 "cells": [
  {
   "cell_type": "code",
   "execution_count": 1,
   "id": "7e42ede9-93f1-415c-b787-9d64357db69e",
   "metadata": {},
   "outputs": [
    {
     "name": "stdout",
     "output_type": "stream",
     "text": [
      "Hello from a function!\n"
     ]
    }
   ],
   "source": [
    "# Day 5 - Python Functions\n",
    "# This function does not take any input arguments.\n",
    "# It simply prints a greeting message when called.\n",
    "# 1. Simple Function with No Parameters\n",
    "\n",
    "def greet():\n",
    "    print(\"Hello from a function!\")\n",
    "\n",
    "greet()"
   ]
  },
  {
   "cell_type": "code",
   "execution_count": 2,
   "id": "36d28e5d-6ce5-4b33-9493-0923675d6ee9",
   "metadata": {},
   "outputs": [
    {
     "name": "stdout",
     "output_type": "stream",
     "text": [
      "Hello, Waqas\n"
     ]
    }
   ],
   "source": [
    "# 2. Function with Parameters (Positional Arguments)\n",
    "# This function accepts one argument and uses it to personalize the message.\n",
    "\n",
    "def greet_user(name):\n",
    "    print(\"Hello,\", name)\n",
    "\n",
    "greet_user(\"Waqas\")"
   ]
  },
  {
   "cell_type": "code",
   "execution_count": 3,
   "id": "505bfce9-3c9f-4dab-a693-b96b5bf21af8",
   "metadata": {},
   "outputs": [
    {
     "name": "stdout",
     "output_type": "stream",
     "text": [
      "Square of 5 is: 25\n"
     ]
    }
   ],
   "source": [
    "# 3. Function that Returns a Value\n",
    "# This function takes one argument, performs a calculation, and returns the result.\n",
    "\n",
    "def square(x):\n",
    "    return x * x\n",
    "\n",
    "result = square(5)\n",
    "print(\"Square of 5 is:\", result)"
   ]
  },
  {
   "cell_type": "code",
   "execution_count": 4,
   "id": "939e8e6c-9baa-4e4c-9c0e-92623800674d",
   "metadata": {},
   "outputs": [
    {
     "name": "stdout",
     "output_type": "stream",
     "text": [
      "Hi Guest\n",
      "Hi Ayesha\n"
     ]
    }
   ],
   "source": [
    "# 4. Default Argument\n",
    "# This function has a default value for its argument.\n",
    "# If no argument is passed, it will use the default value.\n",
    "\n",
    "def greet(name=\"Guest\"):\n",
    "    print(\"Hi\", name)\n",
    "\n",
    "greet()           # uses default value\n",
    "greet(\"Ayesha\")   # overrides default"
   ]
  },
  {
   "cell_type": "code",
   "execution_count": 5,
   "id": "f3afd84b-9626-4a64-b57f-3da90249359b",
   "metadata": {},
   "outputs": [
    {
     "name": "stdout",
     "output_type": "stream",
     "text": [
      "Name: Ali\n",
      "Age: 30\n"
     ]
    }
   ],
   "source": [
    "# 5. Keyword Arguments\n",
    "# You can specify arguments using the parameter names, making the order flexible.\n",
    "\n",
    "def profile(name, age):\n",
    "    print(\"Name:\", name)\n",
    "    print(\"Age:\", age)\n",
    "\n",
    "profile(age=30, name=\"Ali\")"
   ]
  },
  {
   "cell_type": "code",
   "execution_count": 6,
   "id": "42e07eee-ba4e-4fda-a2ef-a27f077a1cea",
   "metadata": {},
   "outputs": [
    {
     "name": "stdout",
     "output_type": "stream",
     "text": [
      "Total: 10\n"
     ]
    }
   ],
   "source": [
    "# 6. Variable-Length Arguments\n",
    "# Sometimes, you don't know how many arguments will be passed.\n",
    "# Use *args to accept a variable number of positional arguments.\n",
    "\n",
    "def sum_all(*numbers):\n",
    "    total = sum(numbers)\n",
    "    print(\"Total:\", total)\n",
    "\n",
    "sum_all(1, 2, 3, 4)"
   ]
  },
  {
   "cell_type": "code",
   "execution_count": 7,
   "id": "81389449-c9c6-4d07-ad53-461d39c67af0",
   "metadata": {},
   "outputs": [
    {
     "name": "stdout",
     "output_type": "stream",
     "text": [
      "Normalized Scores: [0.0, 0.375, 0.75, 1.0]\n"
     ]
    }
   ],
   "source": [
    "# 7. Real-World Use Case: Normalize Data\n",
    "# This function scales values to the range [0, 1].\n",
    "# It's commonly used in machine learning for preprocessing numerical data.\n",
    "\n",
    "def normalize(data):\n",
    "    min_val = min(data)\n",
    "    max_val = max(data)\n",
    "    return [(x - min_val) / (max_val - min_val) for x in data]\n",
    "\n",
    "scores = [20, 50, 80, 100]\n",
    "print(\"Normalized Scores:\", normalize(scores))"
   ]
  },
  {
   "cell_type": "code",
   "execution_count": 8,
   "id": "b34eef2d-0199-4312-ab32-bc1eccfe479d",
   "metadata": {},
   "outputs": [
    {
     "name": "stdout",
     "output_type": "stream",
     "text": [
      "Is 17 prime? True\n",
      "Is 10 prime? False\n"
     ]
    }
   ],
   "source": [
    "# 8. Exercise 1: Check Prime Number\n",
    "# This function determines whether a number is prime.\n",
    "\n",
    "def is_prime(n):\n",
    "    if n <= 1:\n",
    "        return False\n",
    "    for i in range(2, int(n ** 0.5) + 1):\n",
    "        if n % i == 0:\n",
    "            return False\n",
    "    return True\n",
    "\n",
    "print(\"Is 17 prime?\", is_prime(17))\n",
    "print(\"Is 10 prime?\", is_prime(10))"
   ]
  },
  {
   "cell_type": "code",
   "execution_count": 9,
   "id": "52ce20de-b46a-4406-bfb0-3afe15bec21f",
   "metadata": {},
   "outputs": [
    {
     "name": "stdout",
     "output_type": "stream",
     "text": [
      "Factorial of 5: 120\n"
     ]
    }
   ],
   "source": [
    "# 9. Exercise 2: Factorial Function\n",
    "# This function calculates the factorial using a loop.\n",
    "\n",
    "def factorial(n):\n",
    "    result = 1\n",
    "    for i in range(1, n + 1):\n",
    "        result *= i\n",
    "    return result\n",
    "\n",
    "print(\"Factorial of 5:\", factorial(5))"
   ]
  },
  {
   "cell_type": "code",
   "execution_count": 11,
   "id": "cadde9d6-c7e1-4d3b-928b-d171d00ffc40",
   "metadata": {},
   "outputs": [
    {
     "name": "stdout",
     "output_type": "stream",
     "text": [
      "Number of vowels: 10\n"
     ]
    }
   ],
   "source": [
    "# 10. Exercise 3: Count Vowels in String\n",
    "# This function counts how many vowels exist in a given string.\n",
    "def count_vowels(text):\n",
    "    vowels = \"aeiouAEIOU\"\n",
    "    count = 0\n",
    "    for char in text:\n",
    "        if char in vowels:\n",
    "            count += 1\n",
    "    return count\n",
    "\n",
    "print(\"Number of vowels:\", count_vowels(\"Artificial Intelligence\"))"
   ]
  }
 ],
 "metadata": {
  "kernelspec": {
   "display_name": "Python 3 (ipykernel)",
   "language": "python",
   "name": "python3"
  },
  "language_info": {
   "codemirror_mode": {
    "name": "ipython",
    "version": 3
   },
   "file_extension": ".py",
   "mimetype": "text/x-python",
   "name": "python",
   "nbconvert_exporter": "python",
   "pygments_lexer": "ipython3",
   "version": "3.13.5"
  }
 },
 "nbformat": 4,
 "nbformat_minor": 5
}
