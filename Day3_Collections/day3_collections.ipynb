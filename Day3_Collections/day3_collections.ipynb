{
 "cells": [
  {
   "cell_type": "code",
   "execution_count": 2,
   "id": "73a505ce-3c5c-4bdb-bab1-cc56ed009ed1",
   "metadata": {},
   "outputs": [
    {
     "name": "stdout",
     "output_type": "stream",
     "text": [
      "First fruit: apple\n",
      "After append: ['apple', 'banana', 'cherry', 'orange']\n",
      "After removal: ['apple', 'cherry', 'orange']\n",
      "Sorted list: ['apple', 'cherry', 'orange']\n",
      "Total fruits: 3\n"
     ]
    }
   ],
   "source": [
    "# List: Ordered and Mutable\n",
    "fruits = [\"apple\", \"banana\", \"cherry\"]\n",
    "print(\"First fruit:\", fruits[0])  # Accessing by index\n",
    "\n",
    "fruits.append(\"orange\")  # Add new item\n",
    "print(\"After append:\", fruits)\n",
    "\n",
    "fruits.remove(\"banana\")  # Remove item\n",
    "print(\"After removal:\", fruits)\n",
    "\n",
    "fruits.sort()  # Sort alphabetically\n",
    "print(\"Sorted list:\", fruits)\n",
    "\n",
    "print(\"Total fruits:\", len(fruits))  # Length of list"
   ]
  },
  {
   "cell_type": "code",
   "execution_count": 3,
   "id": "5a7390e2-1ba4-4c9b-b047-2718a1a84345",
   "metadata": {},
   "outputs": [
    {
     "name": "stdout",
     "output_type": "stream",
     "text": [
      "Looping through the list:\n",
      "- apple\n",
      "- cherry\n",
      "- orange\n"
     ]
    }
   ],
   "source": [
    "print(\"Looping through the list:\")\n",
    "for fruit in fruits:\n",
    "    print(\"-\", fruit)"
   ]
  },
  {
   "cell_type": "code",
   "execution_count": 4,
   "id": "d55d9986-1bb0-4216-8db2-5335ff3547f5",
   "metadata": {},
   "outputs": [
    {
     "name": "stdout",
     "output_type": "stream",
     "text": [
      "Y-coordinate: 20.5\n"
     ]
    }
   ],
   "source": [
    "# Tuple: Ordered and Immutable\n",
    "coordinates = (10.0, 20.5)\n",
    "print(\"Y-coordinate:\", coordinates[1])\n",
    "\n",
    "# Trying to modify a tuple (uncomment to see the error)\n",
    "# coordinates[0] = 11.0  # ❌ This will raise an error"
   ]
  },
  {
   "cell_type": "code",
   "execution_count": 5,
   "id": "90f6bdd2-5523-46a1-997a-8ff618cb372d",
   "metadata": {},
   "outputs": [
    {
     "name": "stdout",
     "output_type": "stream",
     "text": [
      "Set contents: {'red', 'blue', 'green'}\n",
      "After adding yellow: {'red', 'yellow', 'blue', 'green'}\n"
     ]
    }
   ],
   "source": [
    "# Set: Unordered and Unique\n",
    "colors = {\"red\", \"green\", \"blue\", \"green\"}  # Duplicate 'green' ignored\n",
    "print(\"Set contents:\", colors)\n",
    "\n",
    "colors.add(\"yellow\")\n",
    "print(\"After adding yellow:\", colors)"
   ]
  },
  {
   "cell_type": "code",
   "execution_count": 6,
   "id": "9513bd14-1f13-46ce-b7db-b4ce13b6558b",
   "metadata": {},
   "outputs": [
    {
     "name": "stdout",
     "output_type": "stream",
     "text": [
      "Union: {1, 2, 3, 4, 5, 6}\n",
      "Intersection: set()\n"
     ]
    }
   ],
   "source": [
    "odd = {1, 3, 5}\n",
    "even = {2, 4, 6}\n",
    "print(\"Union:\", odd.union(even))\n",
    "print(\"Intersection:\", odd.intersection(even))"
   ]
  },
  {
   "cell_type": "code",
   "execution_count": 7,
   "id": "230e0004-db73-4e20-aeb3-7c457e5a601d",
   "metadata": {},
   "outputs": [
    {
     "name": "stdout",
     "output_type": "stream",
     "text": [
      "Student Name: Ali\n",
      "Updated Age: 21\n"
     ]
    }
   ],
   "source": [
    "# Dictionary: Key-Value Store\n",
    "student = {\"name\": \"Ali\", \"age\": 20, \"grade\": \"A\"}\n",
    "print(\"Student Name:\", student[\"name\"])\n",
    "\n",
    "student[\"age\"] = 21\n",
    "print(\"Updated Age:\", student[\"age\"])"
   ]
  },
  {
   "cell_type": "code",
   "execution_count": 8,
   "id": "383cde61-f9de-4277-9fc1-e38ef6d81c72",
   "metadata": {},
   "outputs": [
    {
     "name": "stdout",
     "output_type": "stream",
     "text": [
      "Student Details:\n",
      "name : Ali\n",
      "age : 21\n",
      "grade : A\n"
     ]
    }
   ],
   "source": [
    "print(\"Student Details:\")\n",
    "for key, value in student.items():\n",
    "    print(key, \":\", value)"
   ]
  },
  {
   "cell_type": "code",
   "execution_count": 9,
   "id": "92d1dc23-4768-472d-8cbc-5032866cbd9e",
   "metadata": {},
   "outputs": [
    {
     "name": "stdout",
     "output_type": "stream",
     "text": [
      "Squares from 1 to 10: [1, 4, 9, 16, 25, 36, 49, 64, 81, 100]\n"
     ]
    }
   ],
   "source": [
    "# List of Squares from 1 to 10\n",
    "squares = []\n",
    "for i in range(1, 11):\n",
    "    squares.append(i**2)\n",
    "print(\"Squares from 1 to 10:\", squares)"
   ]
  },
  {
   "cell_type": "code",
   "execution_count": 12,
   "id": "ed9cb5a4-ebe6-46c8-af66-0dce93322c14",
   "metadata": {},
   "outputs": [
    {
     "name": "stdin",
     "output_type": "stream",
     "text": [
      "Enter key to lookup (name/job):  name\n"
     ]
    },
    {
     "name": "stdout",
     "output_type": "stream",
     "text": [
      "Result: Sara\n"
     ]
    }
   ],
   "source": [
    "# Dictionary Lookup Example\n",
    "person = {\"name\": \"Sara\", \"job\": \"Engineer\"}\n",
    "key = input(\"Enter key to lookup (name/job): \")\n",
    "print(\"Result:\", person.get(key, \"Key not found\"))"
   ]
  },
  {
   "cell_type": "code",
   "execution_count": 13,
   "id": "220b07ee-83c7-4e36-89b8-ff35b9def02a",
   "metadata": {},
   "outputs": [
    {
     "name": "stdout",
     "output_type": "stream",
     "text": [
      "Common elements: [3, 4]\n"
     ]
    }
   ],
   "source": [
    "# Finding common elements in two lists using sets\n",
    "a = [1, 2, 3, 4]\n",
    "b = [3, 4, 5, 6]\n",
    "common = set(a).intersection(b)\n",
    "print(\"Common elements:\", list(common))"
   ]
  }
 ],
 "metadata": {
  "kernelspec": {
   "display_name": "Python 3 (ipykernel)",
   "language": "python",
   "name": "python3"
  },
  "language_info": {
   "codemirror_mode": {
    "name": "ipython",
    "version": 3
   },
   "file_extension": ".py",
   "mimetype": "text/x-python",
   "name": "python",
   "nbconvert_exporter": "python",
   "pygments_lexer": "ipython3",
   "version": "3.13.5"
  }
 },
 "nbformat": 4,
 "nbformat_minor": 5
}
