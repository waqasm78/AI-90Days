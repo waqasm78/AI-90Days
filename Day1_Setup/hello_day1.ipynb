{
 "cells": [
  {
   "cell_type": "code",
   "execution_count": null,
   "id": "7a9356fa-96e8-4a2f-8048-5ec36c2b0f11",
   "metadata": {},
   "outputs": [],
   "source": [
    "print(\"Hello, AI World! This is Day 1.\")"
   ]
  },
  {
   "cell_type": "code",
   "execution_count": null,
   "id": "d1b1f751-bff2-4546-bacd-77ac1ae0a33e",
   "metadata": {},
   "outputs": [],
   "source": []
  },
  {
   "cell_type": "code",
   "execution_count": null,
   "id": "0ad474b1-b5ed-47fb-8dfd-01fa6535de09",
   "metadata": {},
   "outputs": [],
   "source": []
  },
  {
   "cell_type": "code",
   "execution_count": null,
   "id": "90db36fe-e5a0-4d3d-bd46-a8a7184e8487",
   "metadata": {},
   "outputs": [],
   "source": []
  }
 ],
 "metadata": {
  "kernelspec": {
   "display_name": "Python 3 (ipykernel)",
   "language": "python",
   "name": "python3"
  },
  "language_info": {
   "codemirror_mode": {
    "name": "ipython",
    "version": 3
   },
   "file_extension": ".py",
   "mimetype": "text/x-python",
   "name": "python",
   "nbconvert_exporter": "python",
   "pygments_lexer": "ipython3",
   "version": "3.13.5"
  }
 },
 "nbformat": 4,
 "nbformat_minor": 5
}
