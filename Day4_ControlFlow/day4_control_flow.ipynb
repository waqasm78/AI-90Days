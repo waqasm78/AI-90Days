{
 "cells": [
  {
   "cell_type": "code",
   "execution_count": 1,
   "id": "77690b69-1a36-4dc7-a3cf-8a453822b114",
   "metadata": {},
   "outputs": [
    {
     "name": "stdout",
     "output_type": "stream",
     "text": [
      "Positive\n"
     ]
    }
   ],
   "source": [
    "# Day 4 – Python Control Flow Examples\n",
    "\n",
    "# ✅ If-Else Example\n",
    "x = 10\n",
    "if x > 0:\n",
    "    print(\"Positive\")\n",
    "elif x == 0:\n",
    "    print(\"Zero\")\n",
    "else:\n",
    "    print(\"Negative\")"
   ]
  },
  {
   "cell_type": "code",
   "execution_count": 2,
   "id": "37eb5098-0653-49b1-bb01-47ef47cf07ca",
   "metadata": {},
   "outputs": [
    {
     "name": "stdout",
     "output_type": "stream",
     "text": [
      "Allowed to enter\n"
     ]
    }
   ],
   "source": [
    "# ✅ Comparison and Logical Operators\n",
    "age = 25\n",
    "has_id = True\n",
    "if age > 18 and has_id:\n",
    "    print(\"Allowed to enter\")"
   ]
  },
  {
   "cell_type": "code",
   "execution_count": 3,
   "id": "aec7fd97-27a3-4478-b6d7-fe963c02869e",
   "metadata": {},
   "outputs": [
    {
     "name": "stdout",
     "output_type": "stream",
     "text": [
      "Iteration: 0\n",
      "Iteration: 1\n",
      "Iteration: 2\n",
      "Iteration: 3\n",
      "Iteration: 4\n",
      "Color: red\n",
      "Color: blue\n",
      "Color: green\n"
     ]
    }
   ],
   "source": [
    "# ✅ For Loop with range()\n",
    "for i in range(5):\n",
    "    print(\"Iteration:\", i)\n",
    "\n",
    "# ✅ Looping through a List\n",
    "colors = [\"red\", \"blue\", \"green\"]\n",
    "for color in colors:\n",
    "    print(\"Color:\", color)"
   ]
  },
  {
   "cell_type": "code",
   "execution_count": 4,
   "id": "3a8c13cb-e7f7-4eaf-a745-c10886d9b47e",
   "metadata": {},
   "outputs": [
    {
     "name": "stdout",
     "output_type": "stream",
     "text": [
      "Count is 0\n",
      "Count is 1\n",
      "Count is 2\n",
      "Count is 3\n",
      "Count is 4\n"
     ]
    }
   ],
   "source": [
    "# ✅ While Loop\n",
    "count = 0\n",
    "while count < 5:\n",
    "    print(\"Count is\", count)\n",
    "    count += 1"
   ]
  },
  {
   "cell_type": "code",
   "execution_count": 5,
   "id": "5032672a-1e10-4642-87c7-6fbd7cd654c8",
   "metadata": {},
   "outputs": [
    {
     "name": "stdout",
     "output_type": "stream",
     "text": [
      "Odd number before 5: 1\n",
      "Odd number before 5: 3\n"
     ]
    }
   ],
   "source": [
    "# ✅ Break and Continue\n",
    "for i in range(10):\n",
    "    if i == 5:\n",
    "        break\n",
    "    if i % 2 == 0:\n",
    "        continue\n",
    "    print(\"Odd number before 5:\", i)"
   ]
  },
  {
   "cell_type": "code",
   "execution_count": 6,
   "id": "a3018cf4-bf30-4365-be1d-f3c8524d399b",
   "metadata": {},
   "outputs": [
    {
     "name": "stdout",
     "output_type": "stream",
     "text": [
      "Passed Scores: [85, 90, 60]\n"
     ]
    }
   ],
   "source": [
    "# ✅ Real-World Example: Filter Scores\n",
    "scores = [50, 85, 90, 30, 60]\n",
    "passed = []\n",
    "for score in scores:\n",
    "    if score >= 60:\n",
    "        passed.append(score)\n",
    "print(\"Passed Scores:\", passed)"
   ]
  },
  {
   "cell_type": "code",
   "execution_count": 8,
   "id": "27d6abd6-df1f-48f5-a600-9cd468f96135",
   "metadata": {},
   "outputs": [
    {
     "name": "stdin",
     "output_type": "stream",
     "text": [
      "Enter a number:  5\n"
     ]
    },
    {
     "name": "stdout",
     "output_type": "stream",
     "text": [
      "Odd\n"
     ]
    }
   ],
   "source": [
    "# ✅ Practice 1: Even or Odd Checker\n",
    "num = int(input(\"Enter a number: \"))\n",
    "if num % 2 == 0:\n",
    "    print(\"Even\")\n",
    "else:\n",
    "    print(\"Odd\")"
   ]
  },
  {
   "cell_type": "code",
   "execution_count": 9,
   "id": "9495de03-a4f7-4eb4-88e6-d968a5a4517b",
   "metadata": {},
   "outputs": [
    {
     "name": "stdout",
     "output_type": "stream",
     "text": [
      "5 x 1 = 5\n",
      "5 x 2 = 10\n",
      "5 x 3 = 15\n",
      "5 x 4 = 20\n",
      "5 x 5 = 25\n",
      "5 x 6 = 30\n",
      "5 x 7 = 35\n",
      "5 x 8 = 40\n",
      "5 x 9 = 45\n",
      "5 x 10 = 50\n"
     ]
    }
   ],
   "source": [
    "# ✅ Practice 2: Multiples of 5\n",
    "for i in range(1, 11):\n",
    "    print(\"5 x\", i, \"=\", i * 5)"
   ]
  },
  {
   "cell_type": "code",
   "execution_count": 10,
   "id": "c4e6beee-d51c-4d7e-866d-955adb66765e",
   "metadata": {},
   "outputs": [
    {
     "name": "stdin",
     "output_type": "stream",
     "text": [
      "Enter password:  123\n",
      "Enter password:  python123\n"
     ]
    },
    {
     "name": "stdout",
     "output_type": "stream",
     "text": [
      "Access granted!\n"
     ]
    }
   ],
   "source": [
    "# ✅ Practice 3: Password Retry with While\n",
    "password = \"python123\"\n",
    "attempt = \"\"\n",
    "while attempt != password:\n",
    "    attempt = input(\"Enter password: \")\n",
    "print(\"Access granted!\")"
   ]
  }
 ],
 "metadata": {
  "kernelspec": {
   "display_name": "Python 3 (ipykernel)",
   "language": "python",
   "name": "python3"
  },
  "language_info": {
   "codemirror_mode": {
    "name": "ipython",
    "version": 3
   },
   "file_extension": ".py",
   "mimetype": "text/x-python",
   "name": "python",
   "nbconvert_exporter": "python",
   "pygments_lexer": "ipython3",
   "version": "3.13.5"
  }
 },
 "nbformat": 4,
 "nbformat_minor": 5
}
